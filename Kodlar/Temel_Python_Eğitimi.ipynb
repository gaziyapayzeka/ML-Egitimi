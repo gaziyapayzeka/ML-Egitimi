{
  "nbformat": 4,
  "nbformat_minor": 0,
  "metadata": {
    "colab": {
      "provenance": []
    },
    "kernelspec": {
      "name": "python3",
      "display_name": "Python 3"
    },
    "language_info": {
      "name": "python"
    }
  },
  "cells": [
    {
      "cell_type": "markdown",
      "source": [
        "#Gazi AI Topluluğu ML Eğitimi\n",
        "## Ders 1 - Temel Python Eğitimi-\n"
      ],
      "metadata": {
        "id": "C7fzMZPr1UNl"
      }
    },
    {
      "cell_type": "markdown",
      "source": [
        "Değişkenler"
      ],
      "metadata": {
        "id": "PQjSNLIS1fq4"
      }
    },
    {
      "cell_type": "code",
      "execution_count": null,
      "metadata": {
        "id": "gUSV572A1ROj",
        "colab": {
          "base_uri": "https://localhost:8080/",
          "height": 35
        },
        "outputId": "704caea1-c7e1-46ca-be07-50c3ad612ffa"
      },
      "outputs": [
        {
          "output_type": "execute_result",
          "data": {
            "text/plain": [
              "'Gazi Üniversitesi AI'"
            ],
            "application/vnd.google.colaboratory.intrinsic+json": {
              "type": "string"
            }
          },
          "metadata": {},
          "execution_count": 28
        }
      ],
      "source": [
        "#integer-tam sayı\n",
        "#float-virgüllü sayı \n",
        "#string-metin\n",
        "a = 7\n",
        "type(a) #-> Değişken tipini gösteren fonksiyon\n",
        "b = 7.654\n",
        "c = \"86\"\n",
        "isim = \"Gazi AI\"\n",
        "cümle = \"Gazi Üniversitesi AI\"\n",
        "a + int(c)\n",
        "\n",
        "isim.capitalize() #-> İlk harfi büyütme fonksiyonu\n",
        "isim.upper() #-> Tüm Harfleri büyütme fonskiyonu\n",
        "isim.lower() #-> Tüm harfleri Küçültme Fonksiyonu\n",
        "cümle.split() # -> Bir cümleyi boşluklardan ayırarak liste haline getiren fonksiyon\n",
        "birleşmiş = \" \".join(cümle.split()) #-> Bölünmüş listeyi birleştirme fonks.\n",
        "birleşmiş\n",
        "cümle[a:b] #-> Metin değikeni içerisinde a.indexten b.indexe kadar çekmemizi sağlar\n",
        "\n",
        "\n",
        "\n"
      ]
    },
    {
      "cell_type": "markdown",
      "source": [
        "###Listeler"
      ],
      "metadata": {
        "id": "hRIXd4qc2AWG"
      }
    },
    {
      "cell_type": "code",
      "source": [
        "#llisteler iki şekilde tanımalanabilir\n",
        "liste1 = list()\n",
        "liste2 = [1,23,4,6,7,8,9,23,12] #->Basit liste\n",
        "listemiz = [1,2,3,4,\"gazi\",[1,2,3,4,[\"mert\",\"ömer\"]],\"ai\",\"üniveristesi\"] #->Bileşik Liste\n",
        "len(listemiz) #-> Bir listenin uzunluğunu (eleman sayısını) görmek (length)\n",
        "listemiz[5][4][1] #-> Bileşik listenin içindeki bir elemana ulaşmak  \n",
        "liste2.reverse() #-> Listeyi ters çeviren fonksiyon\n",
        "liste2.index(23) #-> Belirtilen elemana ait indexi gösteren fonksiyon\n",
        "liste2.append(12) #-> Listeye belirtilen elemanı ekleyen fonksiyon\n",
        "liste2.remove(12) #-> Listeden belirtilen elemanı çıkaran fonksiyon\n",
        "kopya = liste2.copy() #-> Listenin kopyasını oluşturan fonksiyon\n",
        "liste2.sort() #-> Listeyi değerlere göre küçükten büyüğe sıralama fonksiyonu\n",
        "liste2.clear() #-> Listeyi temizleme fonskiyonu\n",
        "liste2.count(23) #-> Listenin içinde belirtilen elemanı sayan fonksiyon\n",
        "liste2.pop() #-> Listenin son elemanını kaldıran fonksiyon \n"
      ],
      "metadata": {
        "id": "c0MnZh662E9O"
      },
      "execution_count": null,
      "outputs": []
    },
    {
      "cell_type": "markdown",
      "source": [
        "###Sözlükler"
      ],
      "metadata": {
        "id": "k3rjz0aA2FZO"
      }
    },
    {
      "cell_type": "code",
      "source": [
        "#Sözlükler içerisinde bir keyword ve buna ait bir değer taşır. {} parantezi ile gösterilir.\n",
        "kaloriler = {\"elma\" : 100,\"armut\" : 200 , \"şeftali\" : 300 }\n",
        "kaloriler[\"elma\"] = 300 #-> Sözlüklerde bir değere erişmek için index değil keyword kullanılır\n",
        "kaloriler.keys() #-> Sözlüğe ait değerleri anahtar kelimeleri (keyw) gösteren fonksiyon \n",
        "kaloriler.values() #-> Sözlüğe ait değerleri gösteren fonksiyon\n",
        "kaloriler.copy() #-> Sözlüğün bir kopyasını oluşturan fonksiyon\n",
        "kaloriler.items() #-> Sözlüğe ait her bir anahtar kelimeyi ve karşılığındaki değeri gösteren fonks."
      ],
      "metadata": {
        "id": "MS6vDYcZ2Fx8",
        "colab": {
          "base_uri": "https://localhost:8080/"
        },
        "outputId": "cff36560-fbf8-4802-b45c-4cbdcd2593c8"
      },
      "execution_count": null,
      "outputs": [
        {
          "output_type": "execute_result",
          "data": {
            "text/plain": [
              "dict_items([('elma', 300), ('armut', 200), ('şeftali', 300)])"
            ]
          },
          "metadata": {},
          "execution_count": 18
        }
      ]
    },
    {
      "cell_type": "markdown",
      "source": [
        "###Set"
      ],
      "metadata": {
        "id": "7MOURXSd2GNE"
      }
    },
    {
      "cell_type": "code",
      "source": [
        "#Setlerde sözlükler gibi {} parantezi ile belirtilir\n",
        "#Setler sözlüklerden farklı olarak içerisindeki keyword-value şeklinde değil yalnızca değer alarak oluşturulur\n",
        "#İçerisindeki değerlerden yalnızca birtanesini barındırır\n",
        "setimiz = {1,2,3,4,3,2,3,4,5} #-> setler bu şekilde oluşturulabilir\n",
        "#Eğer boş bir set oluşturmak isterseniz python {} ifadesini sözlük olarak algılar\n",
        "set1 = {} #-> Bu şekilde python dict olarak algılar\n",
        "set1 = set() #-> Bu şekilde set olarak algılanır\n",
        "type(setimiz) \n",
        "setimiz\n",
        "setimiz.add() #-> Sete eleman eklemek için kullanılan fonksiyon\n",
        "setimiz.clear() #-> Seti temizleme fonksiyonu\n",
        "copyset = setimiz.copy() #-> Setin kopyasını oluşturan fonksiyon\n"
      ],
      "metadata": {
        "id": "ZAOvdMMJ2Gly",
        "colab": {
          "base_uri": "https://localhost:8080/"
        },
        "outputId": "b901d23e-417b-43cd-d1bc-a839a6972877"
      },
      "execution_count": null,
      "outputs": [
        {
          "output_type": "execute_result",
          "data": {
            "text/plain": [
              "set"
            ]
          },
          "metadata": {},
          "execution_count": 62
        }
      ]
    },
    {
      "cell_type": "markdown",
      "source": [
        "###Tuple"
      ],
      "metadata": {
        "id": "iJzpl49y2HAa"
      }
    },
    {
      "cell_type": "code",
      "source": [
        "#Tuplelar en korunumlu veri tipidir. Herhangi bir şekilde ekleme, çıkarma, değiştirme işlemlerine izin vermez\n",
        "#() parantezi ile belirtilir\n",
        "tuplemiz = (1,2,3,4,5,2,3,4,5)\n",
        "type(tuplemiz)\n",
        "tuplemiz.count(2) #-> Tuple içinde belirtilen eleman sayısını gösterir\n",
        "tuplemiz.index(3) #-> Belirtilen elemanın indexini gösterir\n"
      ],
      "metadata": {
        "id": "68Ezl_Ds2HXy",
        "colab": {
          "base_uri": "https://localhost:8080/"
        },
        "outputId": "4de51f9c-40b9-45e4-ebe3-afb60cf97129"
      },
      "execution_count": null,
      "outputs": [
        {
          "output_type": "execute_result",
          "data": {
            "text/plain": [
              "2"
            ]
          },
          "metadata": {},
          "execution_count": 65
        }
      ]
    },
    {
      "cell_type": "markdown",
      "source": [
        "###Bool"
      ],
      "metadata": {
        "id": "Nv753DaT2Xc-"
      }
    },
    {
      "cell_type": "code",
      "source": [
        "#bool() işlevi , belirtilen bir nesnenin boole değerini döndürür . \n",
        "#Nesne, [], (), {} gibi boş değilse, nesne her zaman True döndürür. \n",
        "#Bir bool değeri yalnızca True ve False değerlerini alabilir.\n",
        "#Sayısal bir değer 0 ise False. 0 dan farklı ise True değerini döndürür.\n",
        "a = 12\n",
        "a = bool(a) #bir nesneyi bool değerine çevirir.\n",
        "b = 0 \n",
        "b = bool(b)\n"
      ],
      "metadata": {
        "id": "OwcZG2NK2XAG",
        "colab": {
          "base_uri": "https://localhost:8080/"
        },
        "outputId": "7c914bc5-453b-43ad-f1cc-347290cd7297"
      },
      "execution_count": null,
      "outputs": [
        {
          "output_type": "execute_result",
          "data": {
            "text/plain": [
              "bool"
            ]
          },
          "metadata": {},
          "execution_count": 70
        }
      ]
    },
    {
      "cell_type": "markdown",
      "source": [
        "### Koşullu ifadeler (if - elif - else)\n"
      ],
      "metadata": {
        "id": "aMZN8euR2dx6"
      }
    },
    {
      "cell_type": "code",
      "source": [
        "\"\"\"\n",
        "if (ilk koşul ifadesi):\n",
        "  ilk koşul gerçekleşirse çalışacak kodlar\n",
        "elif (ikinci koşul ifadesi):\n",
        "  ikinci koşul gerekleşirse çalışacak kodlar\n",
        ".\n",
        ".\n",
        ".\n",
        "elif (n. koşul):\n",
        "  n.koşul gerçekleşirse çalışacak kodlar\n",
        "else:\n",
        "  koşullardan herhangi biri gerçekleşmezse çalışacak koldlar \n",
        "\"\"\"\n",
        "#input() fonksiyonu Kullanıcıdan girdi almayı sağlar\n",
        "#Parantez içinde girilen metin değeri ile kullanıcıdan girdi alınır\n",
        "\n",
        "a = int(input(\"Lütfen a yı girin : \")) #a değerini kullanıcıdan aldık ve int(tam sayı) tipine çevirdik\n",
        "b = int(input(\"Lütfen b yı girin : \")) #b değerini kullanıcıdan aldık ve int(tam sayı) tipine çevirdik\n",
        "c = int(input(\"Lütfen c yı girin : \")) #c değerini kullanıcıdan aldık ve int(tam sayı) tipine çevirdik\n",
        "if a>b:\n",
        "  print(\"a b den büyüktür\")\n",
        "elif b>c:\n",
        "  print(\"b c den büyüktür\")\n",
        "else:\n",
        "  print(\"Diğer koşullar gerçekleşmedi\")\n",
        "\n",
        "# iki koşullu bir ifade için \"and\"\n",
        "# iki koşuldan biri gerçekleşince çalışacak ifade için \"or\"\n",
        "# bir ifadenin değili için \"not\" deyimleri kullanılır\n",
        "if not a>b: #yazılan koşulun değilini yani tam tersi durumları belirtir\n",
        "  print(\"b a dan büyük veya ikisi eşit\")\n",
        "elif b>c or a>b: #iki koşuldan biri gerçekleşirse bloğun içine girilir\n",
        "  print(\"b c den büyüktür YA DA a b den büyüktür\")\n",
        "elif a>c and b>a: #iki koşulda gerçekleşirse bloğun içine girilir\n",
        "  print(\"a c den büyüktür VE b a dan büyüktür\")\n",
        "else: #Diğer durumlar\n",
        "  print(\"Diğer koşullar gerçekleşmedi\")\n"
      ],
      "metadata": {
        "id": "fT5VFQqv2X58",
        "colab": {
          "base_uri": "https://localhost:8080/"
        },
        "outputId": "bb22dac4-981f-4a2e-e6a9-5eb741d3ea21"
      },
      "execution_count": null,
      "outputs": [
        {
          "name": "stdout",
          "output_type": "stream",
          "text": [
            "Lütfen a yı girin : 8\n",
            "Lütfen b yı girin : 9\n",
            "Lütfen c yı girin : 14\n"
          ]
        },
        {
          "output_type": "execute_result",
          "data": {
            "text/plain": [
              "8.0"
            ]
          },
          "metadata": {},
          "execution_count": 76
        }
      ]
    },
    {
      "cell_type": "markdown",
      "source": [
        "###While Döngüsü"
      ],
      "metadata": {
        "id": "3xYypVcY2Yb8"
      }
    },
    {
      "cell_type": "code",
      "source": [
        "#While ingilizce iken anlamına gelir.    \n",
        "\"\"\"\n",
        "while (koşul ifadesi):\n",
        "  Çalıştırılacak kodlar\n",
        "\"\"\"        \n",
        "i = 0            \n",
        "while i<20: #önce i değeri kontrol edilir ardından şartın gerçekleşip gerçekleşmediğine bakılır\n",
        "  print(i*2)  #Her bir i değerinin 2 katını yazdıralım.\n",
        "  i = i+1     #i değeri 0 olarak kalacağı için i değerini değiştirelim (i değerini 1 arttırdık)\n",
        "              #koşul ifadesi artık sağlanmadığında (i=20 olduğunda) while bloğunun içine girilmez                "
      ],
      "metadata": {
        "id": "G3WF63O62kbO",
        "colab": {
          "base_uri": "https://localhost:8080/"
        },
        "outputId": "05b9b8e4-f529-4208-b0b1-1aa8cfc1aec8"
      },
      "execution_count": null,
      "outputs": [
        {
          "output_type": "stream",
          "name": "stdout",
          "text": [
            "0\n",
            "2\n",
            "4\n",
            "6\n",
            "8\n",
            "10\n",
            "12\n",
            "14\n",
            "16\n",
            "18\n",
            "20\n",
            "22\n",
            "24\n",
            "26\n",
            "28\n",
            "30\n",
            "32\n",
            "34\n",
            "36\n",
            "38\n"
          ]
        }
      ]
    },
    {
      "cell_type": "markdown",
      "source": [
        "###For döngüsü (range,enumarate)"
      ],
      "metadata": {
        "id": "jEI9MPgc2k1O"
      }
    },
    {
      "cell_type": "code",
      "source": [
        "#For döngüsü bir süreci kısaltmak için kullanılan bir döngüdür.\n",
        "#Sıklıkla kullnaılan bir döngü tipidir  \n",
        "#range() fonksiyonu istenilen aralıkta dizi oluşturmak için kullanılır. İstediğimiz aralık sayı ya da harf olabilir.\n",
        "#bir aralıktaki değerlerin karesini for döngüsü ile yazdıralım\n",
        "for i in range(15): #i değeri önce 0 olur, kod çalıştırılır. Ardından 1 olur... ve bu şekilde 15 e kadar çalıştırılır.\n",
        "  print(i**2) #i değerinin karesi yazdırlır\n",
        "\n",
        "#Ders örneği\n",
        "liste =  [\"mert\",\"ömer\",\"ayşe\"] #Elimizdeki listenin içindeki isimlerin ilke harflerini for döngüsü ile büyütelim\n",
        "for i in range(len(liste)): #range(len(liste)) listenin uzunluğu kadar uzunlukta bir dizi oluşturur \n",
        "  liste[i] = liste[i].capitalize() #Listenin i. indexini aynı indexteki değerin Büyük harfli hali ile değiştirelim\n",
        "liste \n",
        "\n"
      ],
      "metadata": {
        "id": "8k8PMAe62lPM",
        "colab": {
          "base_uri": "https://localhost:8080/"
        },
        "outputId": "7bab838c-4170-4059-ab3c-c76c594240e6"
      },
      "execution_count": null,
      "outputs": [
        {
          "output_type": "stream",
          "name": "stdout",
          "text": [
            "0\n",
            "1\n",
            "4\n",
            "9\n",
            "16\n",
            "25\n",
            "36\n",
            "49\n",
            "64\n",
            "81\n",
            "100\n",
            "121\n",
            "144\n",
            "169\n",
            "196\n"
          ]
        },
        {
          "output_type": "execute_result",
          "data": {
            "text/plain": [
              "['Mert', 'Ömer', 'Ayşe']"
            ]
          },
          "metadata": {},
          "execution_count": 6
        }
      ]
    },
    {
      "cell_type": "markdown",
      "source": [
        "###Fonksiyonlar (return,args,Global,Local)"
      ],
      "metadata": {
        "id": "bWTxu_Kd2llc"
      }
    },
    {
      "cell_type": "code",
      "source": [
        "#Pythonda fonksiyonlar bir işlemi çok daha kısa sürede bitirebilmek için kullanılır.\n",
        "#Sıklıkla kullancağımız için pratik yapmanız şiddetle tavsiye edilir :)\n",
        "'''\n",
        "Def deyimi ile bir fonksiyon tanımladığını belirtir. fonksiyonun adı belirtildikten sonra parantez açılarak\n",
        "alacağı değişkenler belirtilir. Bir fonksiyon birden fazla değişken alabilir ya da değişken almayabilir.\n",
        "def function():\n",
        "  fonksiyon çağrıldığında çalıştırılacak kodlar\n",
        "'''\n",
        "\n",
        "\n",
        "def fonksiyonumuz(): #fonksiyonumuz adında bir fonksiyon tanımladık \n",
        "  print(\"fonksiyonumuz fonksiyonu çalıştırıldı\") \n",
        "\n",
        "def kare(x): #Kare adında bir fonksiyon tanımladık ve içerisine x değişkenini girdik\n",
        "  print(x**2) #Fonksiyonun aldığı değerin karesini \"yazdırmasını\" sağladık\n",
        "\n",
        "def tamkare(x,y): #Tamkare adında bir fonksiyon tanımlayalım ve x,y değişkenlerini verelim\n",
        "  print((x+y)**2) #aldığı değerlerin tam karesini \"çıktı olarak verelim\".\n",
        "\n",
        "\n",
        "fonksiyonumuz()\n",
        "kare(6)\n",
        "tamkare(3,5)\n",
        "#--------------------------------------------------------------------------------------\n",
        "#global ve local farkı.\n",
        "#iki fonksiyon tanımlayalım (f(),g())\n",
        "def f():\n",
        "  global x\n",
        "  x = 20\n",
        "  y = 30\n",
        "  print(x+y)\n",
        "\n",
        "def g():\n",
        "  z = 50\n",
        "  print(z+x)\n",
        "\n",
        "#x değerini yukarıda (f fonksiyonunda) tanımlamış olmamıza rağmen g fonksiyonu x değerini tanımaz\n",
        "#ve NameError hatası verir. Bunun sebebi x değerinin f in local (yerel) değişkeni olmasıdır.\n",
        "#x in tüm koşullarda tanınması için x değerini öncelikle global(küresel olarak tanımalamlıyız.)  \n",
        "#----------------------------------------------------------------------------------\n",
        "#Şimdi önemli bir konu olan return deyimine değinelim \n",
        "#Eğer bir fonksiyonu bir değere eşitlersek alacağınız sonucu atamak için return fonksiyonunu kullanırız\n",
        "\n",
        "def toplam(x,y): #verilen iki değerin toplamını \"yazdıran\" bir fonkisyon yazalım\n",
        "  print(x+y)\n",
        "sonuç = toplam (7,8)\n",
        "type(sonuç)\n",
        "\n",
        "#sonuç değişkeninin tipinin NoneType olduğnu görüyoruz.\n",
        "#Elde edeceğimiz sonucun integer olması için return deyimini kullanalım\n",
        "\n",
        "def toplam2(x,y):\n",
        "  return x+y\n",
        "sonuç2 = toplam2(7,8)\n",
        "type(sonuç2)\n",
        "\n",
        "#--------------DERSTE ANLATILMAYAN UFAK BİR KISIM------------------------\n",
        "#args deyimi\n",
        "#bir fonkisyonun içerisine sınırsız sayıda değişken alması için args deyimi kullanılır.\n",
        "def çoklutoplam(*args): #Değişken kısmına *args yazmak sınırsız sayıda değişken almak için yeterlidir (* önemli)\n",
        "\n",
        "  return sum(args) #Sum deyimi içindeki değerleri toplar.\n",
        "\n",
        "çoklutoplam(1,2,3,4,5,6,87,9,7,4,234,354,567,6,87,8,342)\n",
        "\n"
      ],
      "metadata": {
        "id": "JEDhvuCi38x5",
        "colab": {
          "base_uri": "https://localhost:8080/"
        },
        "outputId": "bab8c54c-34c0-4111-92b2-92085c62fd41"
      },
      "execution_count": null,
      "outputs": [
        {
          "output_type": "stream",
          "name": "stdout",
          "text": [
            "fonksiyonumuz fonksiyonu çalıştırıldı\n",
            "36\n",
            "64\n",
            "15\n"
          ]
        },
        {
          "output_type": "execute_result",
          "data": {
            "text/plain": [
              "1726"
            ]
          },
          "metadata": {},
          "execution_count": 17
        }
      ]
    },
    {
      "cell_type": "markdown",
      "source": [
        "#Nesne Tabanlı Programlama\n",
        "\n",
        "Nesne yönelimli programlama, Her işlevin nesneler olarak soyutlandığı bir programlama yaklaşımıdır. NYP destekleyen programlama dilleri yüksek seviye diller olarak adlandırılır. 1960'lı yılların sonuna doğru ortaya çıkan bu yaklaşım, o dönemin yazılım dünyasında beliren bir bunalımın sonucudur."
      ],
      "metadata": {
        "id": "7xzd-orp39Kh"
      }
    },
    {
      "cell_type": "markdown",
      "source": [
        "###Sınıf oluşturmak"
      ],
      "metadata": {
        "id": "qU9f80Me4Tth"
      }
    },
    {
      "cell_type": "code",
      "source": [
        "class Hayvan():\n",
        "  def __init__(self,input_isim=\"bilinmiyor\",input_kilo=\"bilinmiyor\",input_yas=\"bilinmiyor\"):\n",
        "    print(\"Hayvandan init fonksiyonu çağırıldı\")\n",
        "    self.isim = input_isim\n",
        "    self.yas = input_yas\n",
        "    self.kilo = input_kilo\n",
        "  def kostur(self):\n",
        "    print(\"koşuyor\")\n",
        "\n",
        "\n",
        "class Kedi(Hayvan):\n",
        "  def __init__(self):\n",
        "    print(\"Kediden init çağırıldı\")\n",
        "  def miyavla(self):\n",
        "    print(\"miyav\")\n",
        "\n",
        "mıncır = Hayvan(input_yas = 7)\n",
        "boncuk = Kedi()\n",
        "\n"
      ],
      "metadata": {
        "colab": {
          "base_uri": "https://localhost:8080/"
        },
        "id": "kO6QQKVE4HpN",
        "outputId": "9bdc4d8e-23b1-4fb4-ad58-4cef25b4534a"
      },
      "execution_count": null,
      "outputs": [
        {
          "output_type": "stream",
          "name": "stdout",
          "text": [
            "Hayvandan init fonksiyonu çağırıldı\n",
            "Kediden init çağırıldı\n",
            "miyav\n"
          ]
        }
      ]
    },
    {
      "cell_type": "markdown",
      "source": [
        "### __init__ fonksiyonu\n"
      ],
      "metadata": {
        "id": "TF3-QEA24H6V"
      }
    },
    {
      "cell_type": "code",
      "source": [],
      "metadata": {
        "id": "-RPOYHUt4ILl"
      },
      "execution_count": null,
      "outputs": []
    },
    {
      "cell_type": "markdown",
      "source": [
        "###Methodlar"
      ],
      "metadata": {
        "id": "5W_M185V4IcF"
      }
    },
    {
      "cell_type": "code",
      "source": [],
      "metadata": {
        "id": "Cf5lLQHq4l7P"
      },
      "execution_count": null,
      "outputs": []
    },
    {
      "cell_type": "markdown",
      "source": [
        "###Varsayılan değerler"
      ],
      "metadata": {
        "id": "pa3Cvk-_4mSH"
      }
    },
    {
      "cell_type": "code",
      "source": [],
      "metadata": {
        "id": "F40clRzc4mo_"
      },
      "execution_count": null,
      "outputs": []
    },
    {
      "cell_type": "markdown",
      "source": [
        "###Kalıtım"
      ],
      "metadata": {
        "id": "WF06QQHk4nAK"
      }
    },
    {
      "cell_type": "code",
      "source": [],
      "metadata": {
        "id": "0hOEqrg1-TGu"
      },
      "execution_count": null,
      "outputs": []
    }
  ]
}